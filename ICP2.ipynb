{
  "nbformat": 4,
  "nbformat_minor": 0,
  "metadata": {
    "colab": {
      "provenance": []
    },
    "kernelspec": {
      "name": "python3",
      "display_name": "Python 3"
    },
    "language_info": {
      "name": "python"
    }
  },
  "cells": [
    {
      "cell_type": "markdown",
      "source": [
        "1.) a.) Write a program that takes two strings from the user: first_name, last_name. Pass these variables to\n",
        "fullname function that should return the (full name).\n",
        "\n"
      ],
      "metadata": {
        "id": "wVIv8yW9nXhU"
      }
    },
    {
      "cell_type": "code",
      "execution_count": null,
      "metadata": {
        "colab": {
          "base_uri": "https://localhost:8080/"
        },
        "id": "rAjEwDfjDLjI",
        "outputId": "e439c947-825f-4cf2-a979-e0d84c44ab34"
      },
      "outputs": [
        {
          "output_type": "stream",
          "name": "stdout",
          "text": [
            "Enter your first name: Manas Abhinay\n",
            "Enter your last name: Gajula\n",
            "Your full name is: Manas Abhinay Gajula\n"
          ]
        }
      ],
      "source": [
        "def fullname(first_name, last_name):\n",
        "    return first_name + \" \" + last_name\n",
        "\n",
        "# To obtain user input\n",
        "first_name = input(\"Enter your first name: \")\n",
        "last_name = input(\"Enter your last name: \")\n",
        "\n",
        "# To call fullname function\n",
        "full_name = fullname(first_name, last_name)\n",
        "\n",
        "# To print Full name\n",
        "print(\"Your full name is:\", full_name)"
      ]
    },
    {
      "cell_type": "markdown",
      "source": [
        "1.) b.) Write function named “string_alternative” that returns every other char in the full_name string."
      ],
      "metadata": {
        "id": "FBfYKmsAqNyl"
      }
    },
    {
      "cell_type": "code",
      "source": [
        "def string_alternative(input_string):\n",
        "    return input_string[::2]\n",
        "\n",
        "def main():\n",
        "    # To obtain user input for full name\n",
        "    input_string = input(\"Enter the input string: \")\n",
        "\n",
        "    # To call string_alternative function\n",
        "    result = string_alternative(input_string)\n",
        "\n",
        "    # Print the result\n",
        "    print(\"Every other character in output string:\", result)\n",
        "\n",
        "if __name__ == \"__main__\":\n",
        "    main()"
      ],
      "metadata": {
        "colab": {
          "base_uri": "https://localhost:8080/"
        },
        "id": "WKZN7axnO2xO",
        "outputId": "f4361ec3-e701-4cf4-e91b-26e974c61d3c"
      },
      "execution_count": null,
      "outputs": [
        {
          "output_type": "stream",
          "name": "stdout",
          "text": [
            "Enter the input string: Good Evening\n",
            "Every other character in output string: Go vnn\n"
          ]
        }
      ]
    },
    {
      "cell_type": "code",
      "source": [
        "#To import the input.txt file\n",
        "from google.colab import files\n",
        "\n",
        "uploaded = files.upload()"
      ],
      "metadata": {
        "colab": {
          "base_uri": "https://localhost:8080/",
          "height": 73
        },
        "id": "UWEZNMx_nmjl",
        "outputId": "1126daad-fb11-475c-a449-5fff3e09c114"
      },
      "execution_count": 7,
      "outputs": [
        {
          "output_type": "display_data",
          "data": {
            "text/plain": [
              "<IPython.core.display.HTML object>"
            ],
            "text/html": [
              "\n",
              "     <input type=\"file\" id=\"files-c8cceec5-918f-426b-ae58-1c48d4a647f1\" name=\"files[]\" multiple disabled\n",
              "        style=\"border:none\" />\n",
              "     <output id=\"result-c8cceec5-918f-426b-ae58-1c48d4a647f1\">\n",
              "      Upload widget is only available when the cell has been executed in the\n",
              "      current browser session. Please rerun this cell to enable.\n",
              "      </output>\n",
              "      <script>// Copyright 2017 Google LLC\n",
              "//\n",
              "// Licensed under the Apache License, Version 2.0 (the \"License\");\n",
              "// you may not use this file except in compliance with the License.\n",
              "// You may obtain a copy of the License at\n",
              "//\n",
              "//      http://www.apache.org/licenses/LICENSE-2.0\n",
              "//\n",
              "// Unless required by applicable law or agreed to in writing, software\n",
              "// distributed under the License is distributed on an \"AS IS\" BASIS,\n",
              "// WITHOUT WARRANTIES OR CONDITIONS OF ANY KIND, either express or implied.\n",
              "// See the License for the specific language governing permissions and\n",
              "// limitations under the License.\n",
              "\n",
              "/**\n",
              " * @fileoverview Helpers for google.colab Python module.\n",
              " */\n",
              "(function(scope) {\n",
              "function span(text, styleAttributes = {}) {\n",
              "  const element = document.createElement('span');\n",
              "  element.textContent = text;\n",
              "  for (const key of Object.keys(styleAttributes)) {\n",
              "    element.style[key] = styleAttributes[key];\n",
              "  }\n",
              "  return element;\n",
              "}\n",
              "\n",
              "// Max number of bytes which will be uploaded at a time.\n",
              "const MAX_PAYLOAD_SIZE = 100 * 1024;\n",
              "\n",
              "function _uploadFiles(inputId, outputId) {\n",
              "  const steps = uploadFilesStep(inputId, outputId);\n",
              "  const outputElement = document.getElementById(outputId);\n",
              "  // Cache steps on the outputElement to make it available for the next call\n",
              "  // to uploadFilesContinue from Python.\n",
              "  outputElement.steps = steps;\n",
              "\n",
              "  return _uploadFilesContinue(outputId);\n",
              "}\n",
              "\n",
              "// This is roughly an async generator (not supported in the browser yet),\n",
              "// where there are multiple asynchronous steps and the Python side is going\n",
              "// to poll for completion of each step.\n",
              "// This uses a Promise to block the python side on completion of each step,\n",
              "// then passes the result of the previous step as the input to the next step.\n",
              "function _uploadFilesContinue(outputId) {\n",
              "  const outputElement = document.getElementById(outputId);\n",
              "  const steps = outputElement.steps;\n",
              "\n",
              "  const next = steps.next(outputElement.lastPromiseValue);\n",
              "  return Promise.resolve(next.value.promise).then((value) => {\n",
              "    // Cache the last promise value to make it available to the next\n",
              "    // step of the generator.\n",
              "    outputElement.lastPromiseValue = value;\n",
              "    return next.value.response;\n",
              "  });\n",
              "}\n",
              "\n",
              "/**\n",
              " * Generator function which is called between each async step of the upload\n",
              " * process.\n",
              " * @param {string} inputId Element ID of the input file picker element.\n",
              " * @param {string} outputId Element ID of the output display.\n",
              " * @return {!Iterable<!Object>} Iterable of next steps.\n",
              " */\n",
              "function* uploadFilesStep(inputId, outputId) {\n",
              "  const inputElement = document.getElementById(inputId);\n",
              "  inputElement.disabled = false;\n",
              "\n",
              "  const outputElement = document.getElementById(outputId);\n",
              "  outputElement.innerHTML = '';\n",
              "\n",
              "  const pickedPromise = new Promise((resolve) => {\n",
              "    inputElement.addEventListener('change', (e) => {\n",
              "      resolve(e.target.files);\n",
              "    });\n",
              "  });\n",
              "\n",
              "  const cancel = document.createElement('button');\n",
              "  inputElement.parentElement.appendChild(cancel);\n",
              "  cancel.textContent = 'Cancel upload';\n",
              "  const cancelPromise = new Promise((resolve) => {\n",
              "    cancel.onclick = () => {\n",
              "      resolve(null);\n",
              "    };\n",
              "  });\n",
              "\n",
              "  // Wait for the user to pick the files.\n",
              "  const files = yield {\n",
              "    promise: Promise.race([pickedPromise, cancelPromise]),\n",
              "    response: {\n",
              "      action: 'starting',\n",
              "    }\n",
              "  };\n",
              "\n",
              "  cancel.remove();\n",
              "\n",
              "  // Disable the input element since further picks are not allowed.\n",
              "  inputElement.disabled = true;\n",
              "\n",
              "  if (!files) {\n",
              "    return {\n",
              "      response: {\n",
              "        action: 'complete',\n",
              "      }\n",
              "    };\n",
              "  }\n",
              "\n",
              "  for (const file of files) {\n",
              "    const li = document.createElement('li');\n",
              "    li.append(span(file.name, {fontWeight: 'bold'}));\n",
              "    li.append(span(\n",
              "        `(${file.type || 'n/a'}) - ${file.size} bytes, ` +\n",
              "        `last modified: ${\n",
              "            file.lastModifiedDate ? file.lastModifiedDate.toLocaleDateString() :\n",
              "                                    'n/a'} - `));\n",
              "    const percent = span('0% done');\n",
              "    li.appendChild(percent);\n",
              "\n",
              "    outputElement.appendChild(li);\n",
              "\n",
              "    const fileDataPromise = new Promise((resolve) => {\n",
              "      const reader = new FileReader();\n",
              "      reader.onload = (e) => {\n",
              "        resolve(e.target.result);\n",
              "      };\n",
              "      reader.readAsArrayBuffer(file);\n",
              "    });\n",
              "    // Wait for the data to be ready.\n",
              "    let fileData = yield {\n",
              "      promise: fileDataPromise,\n",
              "      response: {\n",
              "        action: 'continue',\n",
              "      }\n",
              "    };\n",
              "\n",
              "    // Use a chunked sending to avoid message size limits. See b/62115660.\n",
              "    let position = 0;\n",
              "    do {\n",
              "      const length = Math.min(fileData.byteLength - position, MAX_PAYLOAD_SIZE);\n",
              "      const chunk = new Uint8Array(fileData, position, length);\n",
              "      position += length;\n",
              "\n",
              "      const base64 = btoa(String.fromCharCode.apply(null, chunk));\n",
              "      yield {\n",
              "        response: {\n",
              "          action: 'append',\n",
              "          file: file.name,\n",
              "          data: base64,\n",
              "        },\n",
              "      };\n",
              "\n",
              "      let percentDone = fileData.byteLength === 0 ?\n",
              "          100 :\n",
              "          Math.round((position / fileData.byteLength) * 100);\n",
              "      percent.textContent = `${percentDone}% done`;\n",
              "\n",
              "    } while (position < fileData.byteLength);\n",
              "  }\n",
              "\n",
              "  // All done.\n",
              "  yield {\n",
              "    response: {\n",
              "      action: 'complete',\n",
              "    }\n",
              "  };\n",
              "}\n",
              "\n",
              "scope.google = scope.google || {};\n",
              "scope.google.colab = scope.google.colab || {};\n",
              "scope.google.colab._files = {\n",
              "  _uploadFiles,\n",
              "  _uploadFilesContinue,\n",
              "};\n",
              "})(self);\n",
              "</script> "
            ]
          },
          "metadata": {}
        },
        {
          "output_type": "stream",
          "name": "stdout",
          "text": [
            "Saving input.txt to input.txt\n"
          ]
        }
      ]
    },
    {
      "cell_type": "markdown",
      "source": [
        "2. Write a python program to find the wordcount in a file (input.txt) for each line and then print the output.\n",
        "Finally store the output in output.txt file."
      ],
      "metadata": {
        "id": "mvUJTG88swvh"
      }
    },
    {
      "cell_type": "code",
      "source": [
        "\n",
        "def count_word_occurrences(line, word_count):\n",
        "    words = line.split()\n",
        "    for word in words:\n",
        "        word_count[word] = word_count.get(word, 0) + 1\n",
        "\n",
        "def main():\n",
        "    input_file_name = \"input.txt\"\n",
        "    output_file_name = \"output.txt\"\n",
        "\n",
        "    try:\n",
        "        # To read input file\n",
        "        with open(input_file_name, 'r') as file:\n",
        "            lines = file.readlines()\n",
        "\n",
        "        # To count word occurrences\n",
        "        word_count = {}\n",
        "        for line in lines:\n",
        "            count_word_occurrences(line, word_count)\n",
        "\n",
        "        # To prepare summarized output\n",
        "        output_lines = []\n",
        "        for word, count in word_count.items():\n",
        "            output_lines.append(f\"{word}: {count}\")\n",
        "\n",
        "        # To print the output\n",
        "        for output_line in output_lines:\n",
        "            print(output_line)\n",
        "\n",
        "        # To write the output to file\n",
        "        with open(output_file_name, 'w') as output_file:\n",
        "            output_file.write('\\n'.join(output_lines))\n",
        "\n",
        "        print(f\"\\nWord count results saved in {output_file_name}\")\n",
        "\n",
        "    except FileNotFoundError:\n",
        "        print(f\"Error: File '{input_file_name}' not found.\")\n",
        "\n",
        "if __name__ == \"__main__\":\n",
        "    main()\n"
      ],
      "metadata": {
        "colab": {
          "base_uri": "https://localhost:8080/"
        },
        "id": "GFvebNP8PBb6",
        "outputId": "8769fddb-199b-412b-d5e5-4d1752c9de32"
      },
      "execution_count": 8,
      "outputs": [
        {
          "output_type": "stream",
          "name": "stdout",
          "text": [
            "Manas: 1\n",
            "Abhinay: 2\n",
            "manas: 1\n",
            "Gajula: 1\n",
            "Python: 1\n",
            "Course: 2\n",
            "Deep: 1\n",
            "Learning: 1\n",
            "\n",
            "Word count results saved in output.txt\n"
          ]
        }
      ]
    },
    {
      "cell_type": "markdown",
      "source": [
        "3.) Write a program, which reads heights (inches.) of customers into a list and convert these\n",
        "heights to centimeters in a separate list using:\n",
        "1) Nested Interactive loop.\n",
        "2) List comprehensions"
      ],
      "metadata": {
        "id": "r_lbHEqss6L9"
      }
    },
    {
      "cell_type": "code",
      "source": [
        "def inches_to_centimeters_nested(heights_inches):\n",
        "    heights_centimeters = []\n",
        "    for inch in heights_inches:\n",
        "        centimeter = inch * 2.54\n",
        "        heights_centimeters.append(round(centimeter, 2))\n",
        "    return heights_centimeters\n",
        "\n",
        "def inches_to_centimeters_list_comprehension(heights_inches):\n",
        "    return [round(inch * 2.54, 2) for inch in heights_inches]\n",
        "\n",
        "def main():\n",
        "    # To obtain input from the user\n",
        "    try:\n",
        "        num_customers = int(input(\"Enter the number of customers: \"))\n",
        "        heights_inches = []\n",
        "        for i in range(num_customers):\n",
        "            height = float(input(f\"Enter height (in inches) for customer {i + 1}: \"))\n",
        "            heights_inches.append(height)\n",
        "\n",
        "        #To convert using nested interactive loop\n",
        "        heights_centimeters_nested = inches_to_centimeters_nested(heights_inches)\n",
        "\n",
        "        # To convert using list comprehension\n",
        "        heights_centimeters_list_comp = inches_to_centimeters_list_comprehension(heights_inches)\n",
        "\n",
        "        # Print the results\n",
        "        print(\"\\nHeights (in inches):\", heights_inches)\n",
        "        print(\"Heights (in centimeters) using nested loop:\", heights_centimeters_nested)\n",
        "        print(\"Heights (in centimeters) using list comprehension:\", heights_centimeters_list_comp)\n",
        "\n",
        "    except ValueError:\n",
        "        print(\"Error: Please enter valid numerical values for heights.\")\n",
        "\n",
        "if __name__ == \"__main__\":\n",
        "    main()\n"
      ],
      "metadata": {
        "colab": {
          "base_uri": "https://localhost:8080/"
        },
        "id": "Av6L3YkrU2NQ",
        "outputId": "6c3e6cd7-f306-4cd0-fc24-04676f377f8d"
      },
      "execution_count": 6,
      "outputs": [
        {
          "output_type": "stream",
          "name": "stdout",
          "text": [
            "Enter the number of customers: 4\n",
            "Enter height (in inches) for customer 1: 150\n",
            "Enter height (in inches) for customer 2: 155\n",
            "Enter height (in inches) for customer 3: 145\n",
            "Enter height (in inches) for customer 4: 148\n",
            "\n",
            "Heights (in inches): [150.0, 155.0, 145.0, 148.0]\n",
            "Heights (in centimeters) using nested loop: [381.0, 393.7, 368.3, 375.92]\n",
            "Heights (in centimeters) using list comprehension: [381.0, 393.7, 368.3, 375.92]\n"
          ]
        }
      ]
    },
    {
      "cell_type": "code",
      "source": [],
      "metadata": {
        "id": "0Z5kPijaTLQz"
      },
      "execution_count": null,
      "outputs": []
    }
  ]
}